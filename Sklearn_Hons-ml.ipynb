{
  "nbformat": 4,
  "nbformat_minor": 0,
  "metadata": {
    "colab": {
      "name": "Untitled4.ipynb",
      "provenance": [],
      "toc_visible": true,
      "include_colab_link": true
    },
    "kernelspec": {
      "name": "python3",
      "display_name": "Python 3"
    },
    "language_info": {
      "name": "python"
    }
  },
  "cells": [
    {
      "cell_type": "markdown",
      "metadata": {
        "id": "view-in-github",
        "colab_type": "text"
      },
      "source": [
        "<a href=\"https://colab.research.google.com/github/evin357/References/blob/master/Sklearn_Hons-ml.ipynb\" target=\"_parent\"><img src=\"https://colab.research.google.com/assets/colab-badge.svg\" alt=\"Open In Colab\"/></a>"
      ]
    },
    {
      "cell_type": "markdown",
      "metadata": {
        "id": "XhRdshTXuiYY"
      },
      "source": [
        "\n",
        "\n",
        "\n",
        "\n"
      ]
    },
    {
      "cell_type": "code",
      "metadata": {
        "id": "hEffg8jGm9F7"
      },
      "source": [
        "import pandas as pd\n",
        "import numpy as np\n",
        "import matplotlib.pyplot as plt\n"
      ],
      "execution_count": null,
      "outputs": []
    },
    {
      "cell_type": "code",
      "metadata": {
        "id": "eU3iNW6UwOqk",
        "colab": {
          "base_uri": "https://localhost:8080/"
        },
        "outputId": "fa35fb31-770f-4983-891d-eddbb3b374e7"
      },
      "source": [
        "from google.colab import drive\n",
        "drive.mount('/content/drive', force_remount=True)\n",
        "#######################################################\n",
        "SAVEPATH = 'drive/MyDrive/NeSI_trysci'\n",
        "#######################################################\n",
        "#mastml = Mastml(savepath=SAVEPATH)\n",
        "#savepath = mastml.get_savepath\n",
        "#######################################################\n",
        "data = pd.read_csv('nesistrucdata.csv')\n",
        "\n",
        "\n"
      ],
      "execution_count": null,
      "outputs": [
        {
          "output_type": "stream",
          "text": [
            "Mounted at /content/drive\n"
          ],
          "name": "stdout"
        }
      ]
    },
    {
      "cell_type": "code",
      "metadata": {
        "id": "KA-51YD8mruC"
      },
      "source": [
        "# Use only one feature set x = band gap col\n",
        "X = data['Band Gap']\n",
        "\n",
        "# Split the data into training/testing sets\n",
        "X_train = X[:120]\n",
        "X_test = X[120:]\n",
        "\n",
        "# Split the targets into training/testing sets\n",
        "y_train =  data[:120] #select rows of features\n",
        "y_test = data[120:]#diabetes_select remaining rows of features\n"
      ],
      "execution_count": null,
      "outputs": []
    },
    {
      "cell_type": "markdown",
      "metadata": {
        "id": "Xveu12izwPxQ"
      },
      "source": [
        "# LINEAR REGRESSION"
      ]
    },
    {
      "cell_type": "code",
      "metadata": {
        "id": "is_z94SwubuA"
      },
      "source": [
        "import matplotlib.pyplot as plt\n",
        "import numpy as np\n",
        "import pandas as pd\n",
        "from sklearn import datasets, linear_model\n",
        "from sklearn.metrics import mean_squared_error, r2_score\n",
        "#######################################################\n",
        "\n",
        "\n",
        "\n",
        "# Create linear regression object\n",
        "regr = linear_model.LinearRegression()\n",
        "\n",
        "# Train the model using the training sets\n",
        "regr.fit(X_train, y_train)\n",
        "\n",
        "# Make predictions using the testing set\n",
        "y_pred = regr.predict(X_test)\n",
        "\n",
        "# The coefficients\n",
        "print('Coefficients: \\n', regr.coef_)\n",
        "# The mean squared error\n",
        "print('Mean squared error: %.2f'\n",
        "      % mean_squared_error(y_test, y_pred))\n",
        "# The coefficient of determination: 1 is perfect prediction\n",
        "print('Coefficient of determination: %.2f'\n",
        "      % r2_score(y_test, y_pred))\n",
        "\n",
        "# Plot outputs\n",
        "plt.scatter(X_test, y_test,  color='black')\n",
        "plt.plot(X_test, y_pred, color='blue', linewidth=3)\n",
        "\n",
        "plt.xticks(())\n",
        "plt.yticks(())\n",
        "\n",
        "plt.show()"
      ],
      "execution_count": null,
      "outputs": []
    },
    {
      "cell_type": "markdown",
      "metadata": {
        "id": "4Dylig7HvXD5"
      },
      "source": [
        "**bold text**# KRR "
      ]
    },
    {
      "cell_type": "code",
      "metadata": {
        "id": "b3W3Ctv1vM8X"
      },
      "source": [
        "from sklearn.kernel_ridge import KernelRidge\n",
        "import numpy as np\n",
        "\n",
        "\n",
        "df = pd.read_csv('nesistrucdata.csv')\n",
        "Y = df[['Band Gap']]\n",
        "X = df[['A-B Distance', 'A-X Distance', 'B-X Distance', 'X-X Distance', 'Volume']]\n",
        "\n",
        "\n",
        "n_samples, n_features = 10, 5\n",
        "rng = np.random.RandomState(0)\n",
        "\n",
        "clf = KernelRidge(alpha=1.0)\n",
        "clf.fit(X, y)\n",
        "clf.get_params(deep=True)"
      ],
      "execution_count": null,
      "outputs": []
    },
    {
      "cell_type": "markdown",
      "metadata": {
        "id": "ZUXd5bS5vYqn"
      },
      "source": [
        "# RFR"
      ]
    },
    {
      "cell_type": "code",
      "metadata": {
        "colab": {
          "base_uri": "https://localhost:8080/"
        },
        "id": "zuvLVE249Fee",
        "outputId": "7f06b3c3-3c7d-4be3-962a-251f31fafb36"
      },
      "source": [
        "import numpy as np\n",
        "import matplotlib.pyplot as plt\n",
        "import pandas as pd\n",
        "from sklearn.model_selection import train_test_split\n",
        "from sklearn.ensemble import RandomForestRegressor\n",
        "from sklearn.datasets import make_regression\n",
        "from sklearn.preprocessing import MinMaxScaler\n",
        "\n",
        "\n",
        "df1 = pd.read_csv('nesistrucdata.csv')\n",
        "df2 = pd.read_csv('MLdataNeSI.csv')\n",
        "\n",
        "# frames = [df1, df2]\n",
        "#     df = pd.concat(frames)\n",
        "\n",
        "df = pd.DataFrame([df1['A'], \n",
        "                   df1['A_radius'], df1['B_radius'], df1['X_radius'],\n",
        "                   df1['A-B Distance'], df1['A-X Distance'],df1['B-X Distance'], df1['X-X Distance'],\n",
        "                   df1['Volume'], df1['Band Gap'], \n",
        "                   df2['A'], \n",
        "                   df2['A Group ID'], df2['B Group ID'], df2['X Group ID'], \n",
        "                   df2['A Period'], df2['B Period'], df2['X Period'],\n",
        "                   df2['A Mass'], df2['B Mass'], df2['X Mass'], \n",
        "                   df2['Cell Mass'],\n",
        "                   df2['A 1st Ionisation Energy'], df2['B 1st Ionisation Energy'],df2['X 1st Ionisation Energy'],\n",
        "                   df2['A Dipole Polarizability'], df2['B Dipole Polarizability'], df2['X Dipole Polarizability'],\n",
        "                   df2['A Electronegativity'], df2['B Electronegativity'], df2['X Electronegativity'], df2['Band Gap']\n",
        "                   ]).transpose()\n",
        "list(df)\n",
        "df = df.T.drop_duplicates().T\n",
        "list(df)\n",
        "\n",
        "\n"
      ],
      "execution_count": null,
      "outputs": [
        {
          "output_type": "execute_result",
          "data": {
            "text/plain": [
              "['A',\n",
              " 'A_radius',\n",
              " 'B_radius',\n",
              " 'X_radius',\n",
              " 'A-B Distance',\n",
              " 'A-X Distance',\n",
              " 'B-X Distance',\n",
              " 'Volume',\n",
              " 'Band Gap',\n",
              " 'A Group ID',\n",
              " 'B Group ID',\n",
              " 'X Group ID',\n",
              " 'A Period',\n",
              " 'B Period',\n",
              " 'X Period',\n",
              " 'A Mass',\n",
              " 'B Mass',\n",
              " 'X Mass',\n",
              " 'Cell Mass',\n",
              " 'A 1st Ionisation Energy',\n",
              " 'B 1st Ionisation Energy',\n",
              " 'X 1st Ionisation Energy',\n",
              " 'A Dipole Polarizability',\n",
              " 'B Dipole Polarizability',\n",
              " 'X Dipole Polarizability',\n",
              " 'A Electronegativity',\n",
              " 'B Electronegativity',\n",
              " 'X Electronegativity',\n",
              " 'Band Gap']"
            ]
          },
          "metadata": {
            "tags": []
          },
          "execution_count": 31
        }
      ]
    },
    {
      "cell_type": "code",
      "metadata": {
        "id": "3CzCXzsr4M3D",
        "colab": {
          "base_uri": "https://localhost:8080/",
          "height": 332
        },
        "outputId": "7bcaee49-88ae-4022-8d4f-385c5d330457"
      },
      "source": [
        "\n",
        "\n",
        "\n",
        "# Importing the datasets\n",
        "\n",
        "Y = df[['Band Gap']] # Target \n",
        "#X = df[['A_radius','B_radius','X_radius', \n",
        "        # 'A 1st Ionisation Energy','B 1st Ionisation Energy', 'X 1st Ionisation Energy',\n",
        "        # 'A Dipole Polarizability', 'B Dipole Polarizability', 'X Dipole Polarizability',\n",
        "        # 'A Electronegativity', 'B Electronegativity', 'X Electronegativity', \n",
        "        # 'A Group ID','B Group ID','X Group ID',\n",
        "        # 'A Period', 'B Period', 'X Period',\n",
        "        # 'A Mass', 'B Mass', 'X Mass']]  # Atom only Params + Works really well\n",
        "# X = df[['A_radius','B_radius','X_radius', \n",
        "#        'A 1st Ionisation Energy','B 1st Ionisation Energy', 'X 1st Ionisation Energy',\n",
        "#         'A Dipole Polarizability', 'B Dipole Polarizability', 'X Dipole Polarizability',\n",
        "#         'A Electronegativity', 'B Electronegativity', 'X Electronegativity', \n",
        "#         'A Group ID','B Group ID','X Group ID',\n",
        "#         'A Period', 'B Period', 'X Period',\n",
        "#         'A Mass', 'B Mass', 'X Mass',\n",
        "#         'Volume', 'Cell Mass']]   # Atom + Cell Params\n",
        "#X = df[['A-B Distance', 'A-X Distance', 'B-X Distance']] # Distances only, 'X-X Distance'?'X-X Distance',\n",
        "X = df[['A-B Distance', 'A-X Distance', 'B-X Distance', \n",
        "        'A 1st Ionisation Energy','B 1st Ionisation Energy', 'X 1st Ionisation Energy',\n",
        "        'A Dipole Polarizability', 'B Dipole Polarizability', 'X Dipole Polarizability',\n",
        "        'A Electronegativity', 'B Electronegativity', 'X Electronegativity']] # Distances + Electronic\n",
        "\n",
        "\n",
        "\n",
        "def splitdata(X,Y):\n",
        "  X_train, X_test, y_train, y_test = train_test_split(X, Y, test_size=0.2, random_state=None)\n",
        "  norm = MinMaxScaler().fit(X_train)\n",
        "  X_train_norm = norm.transform(X_train)\n",
        "  X_test_norm = norm.transform(X_test)\n",
        "  return X_train_norm, X_test_norm, y_train, y_test\n",
        "\n",
        "def RFR_fit(X,Y):\n",
        "  X_train, X_test, y_train, y_test = splitdata(X,Y)\n",
        "  # Fitting the Regression model to the dataset\n",
        "  regressor = RandomForestRegressor(n_estimators = 100, random_state = None)\n",
        "  regressor.fit(X_train,y_train)\n",
        "  # Predicting a new result with the Random Forest Regression\n",
        "  y_Pred = regressor.predict(X_test)\n",
        "  coefs=list(zip(X.columns, regressor.feature_importances_))\n",
        "  return y_test,y_Pred,coefs\n",
        "\n",
        "def plot_BG_testvspred(y_test,y_Pred,model_name):\n",
        "# Visualising the Random Forest Regression results in higher resolution and smoother curve\n",
        "  #\n",
        "  #Y_Grid = np.arange(np.array(Y.min()), np.array(Y.max()), 0.01)\n",
        "  #Y_Grid = Y_Grid.reshape((len(Y_Grid), 1))\n",
        "  # Plotting\n",
        "  plt.scatter(y_test,y_Pred, color = 'red')\n",
        "  plt.plot([y_test.min(),y_test.max()],[y_test.min(),y_test.max()], color = 'blue')#Y_Grid, Y_Grid, color = 'blue')\n",
        "  #Labelling plots\n",
        "  plt.title(model_name+' Results')\n",
        "  plt.xlabel('True Band Gap')\n",
        "  plt.ylabel('Predicted Band Gap')\n",
        "  plt.show()\n",
        "\n",
        "y_test,y_Pred,coefs = RFR_fit(X,Y)\n",
        "print(coefs)\n",
        "plot_BG_testvspred(y_test,y_Pred,'Random Forest Regression')"
      ],
      "execution_count": null,
      "outputs": [
        {
          "output_type": "stream",
          "text": [
            "[('A-B Distance', 0.024027848583065864), ('A-X Distance', 0.03279129130113318), ('B-X Distance', 0.026939947327017977), ('A 1st Ionisation Energy', 0.09695490746944041), ('B 1st Ionisation Energy', 0.11121633442944323), ('X 1st Ionisation Energy', 0.043778886685292014), ('A Dipole Polarizability', 0.1362994232320106), ('B Dipole Polarizability', 0.17207078905720755), ('X Dipole Polarizability', 0.03589791004812131), ('A Electronegativity', 0.09745208410439923), ('B Electronegativity', 0.19054218553830216), ('X Electronegativity', 0.0320283922245663)]\n"
          ],
          "name": "stdout"
        },
        {
          "output_type": "display_data",
          "data": {
            "image/png": "[encoded data removed]",
            "text/plain": [
              "<Figure size 432x288 with 1 Axes>"
            ]
          },
          "metadata": {
            "tags": [],
            "needs_background": "light"
          }
        }
      ]
    },
    {
      "cell_type": "markdown",
      "metadata": {
        "id": "eaLfpMszvah8"
      },
      "source": [
        "# MLP"
      ]
    },
    {
      "cell_type": "code",
      "metadata": {
        "colab": {
          "base_uri": "https://localhost:8080/",
          "height": 1000
        },
        "id": "jIGSjSI-TA3r",
        "outputId": "279940c5-f1b4-49d1-dcae-cc65ec9d92a1"
      },
      "source": [
        "from sklearn.neural_network import MLPRegressor\n",
        "from sklearn.datasets import make_regression\n",
        "\n",
        "def MLP_fit(X,Y, hidden, print_coefs = True, max_iter= 10000):\n",
        "    X_train, X_test, y_train, y_test = splitdata(X,Y)\n",
        "    print(np.mean(np.array(y_train)))\n",
        "#-- fit + extract coefficients\n",
        "    model = MLPRegressor(hidden, validation_fraction = 0, solver='lbfgs', max_iter= max_iter).fit(X_train, y_train)\n",
        "    coefs = model.coefs_\n",
        "\n",
        "#--  ?  \n",
        "    yhat = model.predict(X)\n",
        "\n",
        "#-- calculate variance re: real, predicted values to estimate error of fit\n",
        "    y_Pred=model.predict(X_test)\n",
        "    print(y_Pred)\n",
        "    y_train_pred = model.predict(X_train)\n",
        "    loss = np.square(np.array(y_train) - np.array(y_train_pred)).mean()\n",
        "\n",
        "#-- ??\n",
        "    hiddens = coefs[0].T\n",
        "    final_mlp = coefs[1].flatten()\n",
        "    \n",
        "    coefs = list(zip([dict(zip(X.columns, h)) for h in hiddens],\n",
        "                     [['output mult:', m] for m in  final_mlp.flatten()], \n",
        "                     [['intercept:', i] for i in  model.intercepts_[0]]))\n",
        "    print('loss:', loss)\n",
        "    if print_coefs:\n",
        "        for idx, c in enumerate(coefs):\n",
        "            f1, o, i = c\n",
        "            featurestring='feature'+str(idx)+'='\n",
        "            for key in X.columns:\n",
        "                featurestring+=str(f1[key].round(2))+'*'+key+' +'\n",
        "            featurestring+=str(i[1].round(2))\n",
        "            print(featurestring)    \n",
        "            #print('feature', idx, '=', f1['brand'].round(2), '* brand +', \n",
        "            #      f1['d2c'].round(2), '* d2c', '+', i[1].round(2))\n",
        "        output = 'yhat = '\n",
        "        for fidx, v in enumerate(final_mlp):\n",
        "            output = output + str(v.round(2)) + ' * feat ' + str(fidx) + ' + '\n",
        "        output = output + str(model.intercepts_[1][0].round(2))\n",
        "        print(output)\n",
        "    return model, yhat, y_test,y_Pred, coefs, loss\n",
        "\n",
        "model, yhat,y_test,y_Pred,coefs, loss = MLP_fit(X,Y,[10, 5])# for hidden, supply list where each number n produces a layer of n nodes, eg [2,3] has one layer of two nodes and one layer of three\n",
        "plot_BG_testvspred(y_test,y_Pred,'MLP')"
      ],
      "execution_count": null,
      "outputs": [
        {
          "output_type": "stream",
          "text": [
            "0.6433423357664232\n",
            "[[ 9.69155947e-04  1.83867720e-03]\n",
            " [-6.40842760e-04  5.01914611e-04]\n",
            " [ 2.03680338e+00  2.03732172e+00]\n",
            " [ 2.92522341e+00  2.92581145e+00]\n",
            " [ 1.53887901e+00  1.53818792e+00]\n",
            " [ 9.21770614e-01  9.20960714e-01]\n",
            " [-8.84718975e-04  2.99427118e-04]\n",
            " [-1.21998577e-03  2.10591249e-05]\n",
            " [ 2.58799656e-01  2.58507943e-01]\n",
            " [ 3.64702876e+00  3.64276438e+00]\n",
            " [ 1.04890562e+00  1.04827423e+00]\n",
            " [-1.29471385e-03 -4.09867012e-05]\n",
            " [ 4.99613792e-01  4.99119632e-01]\n",
            " [-2.00949361e-03 -6.34459751e-04]\n",
            " [-1.17229621e-03  6.06551957e-05]\n",
            " [ 1.16229066e-01  1.16631752e-01]\n",
            " [ 3.10771180e+00  3.10413237e+00]\n",
            " [ 2.00418060e-04  1.20040336e-03]\n",
            " [ 4.57807991e+00  4.57601410e+00]\n",
            " [ 1.81563782e-03  2.54150093e-03]\n",
            " [ 2.26200777e+00  2.26145511e+00]\n",
            " [ 1.35597808e-01  1.35809579e-01]\n",
            " [ 4.95282770e-01  4.95220058e-01]\n",
            " [ 1.22081053e-03  2.04762298e-03]\n",
            " [ 7.95516533e-01  7.94979717e-01]\n",
            " [ 4.48656943e-04  1.40651313e-03]\n",
            " [ 1.71156671e+00  1.71113983e+00]\n",
            " [-2.33402412e-03 -9.03913533e-04]\n",
            " [ 8.04391785e-01  8.03188121e-01]\n",
            " [ 3.08387780e+00  3.08037975e+00]\n",
            " [ 1.67711347e+00  1.67566316e+00]\n",
            " [ 2.87897421e-01  2.88196055e-01]\n",
            " [ 3.23973113e+00  3.23616179e+00]\n",
            " [ 1.40534997e+00  1.40541805e+00]\n",
            " [ 2.16971247e-04  1.21414728e-03]]\n",
            "loss: 0.013362683312825804\n",
            "feature0=-0.49*A-B Distance +0.09*A-X Distance +-0.38*B-X Distance +-0.59*A 1st Ionisation Energy +0.14*B 1st Ionisation Energy +-0.12*X 1st Ionisation Energy +-0.51*A Dipole Polarizability +0.22*B Dipole Polarizability +-0.25*X Dipole Polarizability +-0.04*A Electronegativity +-0.74*B Electronegativity +-0.01*X Electronegativity +-1.02\n",
            "feature1=-0.35*A-B Distance +-0.04*A-X Distance +-0.53*B-X Distance +-0.37*A 1st Ionisation Energy +0.25*B 1st Ionisation Energy +0.13*X 1st Ionisation Energy +0.11*A Dipole Polarizability +0.23*B Dipole Polarizability +0.04*X Dipole Polarizability +-0.12*A Electronegativity +-0.06*B Electronegativity +-0.49*X Electronegativity +-0.51\n",
            "feature2=-0.87*A-B Distance +-1.14*A-X Distance +-1.08*B-X Distance +-1.32*A 1st Ionisation Energy +-0.33*B 1st Ionisation Energy +-0.5*X 1st Ionisation Energy +1.41*A Dipole Polarizability +1.85*B Dipole Polarizability +0.97*X Dipole Polarizability +0.96*A Electronegativity +2.78*B Electronegativity +0.44*X Electronegativity +-0.04\n",
            "feature3=-0.59*A-B Distance +-0.8*A-X Distance +-1.02*B-X Distance +1.22*A 1st Ionisation Energy +-1.47*B 1st Ionisation Energy +0.2*X 1st Ionisation Energy +0.9*A Dipole Polarizability +0.26*B Dipole Polarizability +0.89*X Dipole Polarizability +-1.37*A Electronegativity +-0.41*B Electronegativity +-0.68*X Electronegativity +2.51\n",
            "feature4=-0.27*A-B Distance +0.06*A-X Distance +-0.0*B-X Distance +-0.05*A 1st Ionisation Energy +-0.43*B 1st Ionisation Energy +-0.25*X 1st Ionisation Energy +-0.15*A Dipole Polarizability +-0.31*B Dipole Polarizability +0.01*X Dipole Polarizability +0.5*A Electronegativity +-0.38*B Electronegativity +-0.51*X Electronegativity +-0.12\n",
            "feature5=-0.03*A-B Distance +-0.47*A-X Distance +-0.22*B-X Distance +-0.63*A 1st Ionisation Energy +-0.57*B 1st Ionisation Energy +-0.3*X 1st Ionisation Energy +-0.47*A Dipole Polarizability +-0.83*B Dipole Polarizability +-0.49*X Dipole Polarizability +-0.45*A Electronegativity +-0.49*B Electronegativity +-0.58*X Electronegativity +-0.39\n",
            "feature6=-0.12*A-B Distance +0.24*A-X Distance +-0.18*B-X Distance +-0.32*A 1st Ionisation Energy +-0.16*B 1st Ionisation Energy +0.07*X 1st Ionisation Energy +0.23*A Dipole Polarizability +0.3*B Dipole Polarizability +-0.4*X Dipole Polarizability +-0.35*A Electronegativity +0.28*B Electronegativity +-0.04*X Electronegativity +-0.56\n",
            "feature7=0.22*A-B Distance +-0.05*A-X Distance +0.72*B-X Distance +-0.56*A 1st Ionisation Energy +-0.34*B 1st Ionisation Energy +-0.75*X 1st Ionisation Energy +-0.48*A Dipole Polarizability +-1.05*B Dipole Polarizability +1.32*X Dipole Polarizability +-0.61*A Electronegativity +0.41*B Electronegativity +-0.99*X Electronegativity +-0.77\n",
            "feature8=-1.01*A-B Distance +-0.92*A-X Distance +-0.21*B-X Distance +2.27*A 1st Ionisation Energy +-0.99*B 1st Ionisation Energy +-0.55*X 1st Ionisation Energy +-1.65*A Dipole Polarizability +1.43*B Dipole Polarizability +2.28*X Dipole Polarizability +-0.22*A Electronegativity +2.03*B Electronegativity +-0.52*X Electronegativity +1.7\n",
            "feature9=0.53*A-B Distance +0.49*A-X Distance +0.42*B-X Distance +-4.41*A 1st Ionisation Energy +1.15*B 1st Ionisation Energy +0.73*X 1st Ionisation Energy +-0.07*A Dipole Polarizability +1.47*B Dipole Polarizability +-0.99*X Dipole Polarizability +1.75*A Electronegativity +-2.86*B Electronegativity +0.35*X Electronegativity +0.46\n",
            "yhat = -0.03 * feat 0 + 0.31 * feat 1 + 0.44 * feat 2 + -0.42 * feat 3 + -0.38 * feat 4 + -0.42 * feat 5 + 0.15 * feat 6 + 0.4 * feat 7 + -0.25 * feat 8 + 0.48 * feat 9 + -1.39 * feat 10 + 0.84 * feat 11 + 0.21 * feat 12 + -1.07 * feat 13 + -0.44 * feat 14 + 0.11 * feat 15 + -0.58 * feat 16 + -2.98 * feat 17 + -0.24 * feat 18 + 0.37 * feat 19 + 0.48 * feat 20 + -0.01 * feat 21 + 0.19 * feat 22 + -0.61 * feat 23 + -0.18 * feat 24 + 0.83 * feat 25 + -0.32 * feat 26 + 0.22 * feat 27 + -0.65 * feat 28 + -0.56 * feat 29 + -0.22 * feat 30 + -0.67 * feat 31 + 0.7 * feat 32 + 0.45 * feat 33 + -0.27 * feat 34 + 1.08 * feat 35 + 0.18 * feat 36 + -0.18 * feat 37 + -0.49 * feat 38 + 0.32 * feat 39 + -0.86 * feat 40 + 1.37 * feat 41 + -0.77 * feat 42 + -0.1 * feat 43 + -0.35 * feat 44 + 0.04 * feat 45 + 0.83 * feat 46 + 1.95 * feat 47 + -0.69 * feat 48 + -0.42 * feat 49 + 2.89\n"
          ],
          "name": "stdout"
        },
        {
          "output_type": "display_data",
          "data": {
            "image/png": "[encoded data removed]",
            "text/plain": [
              "<Figure size 432x288 with 1 Axes>"
            ]
          },
          "metadata": {
            "tags": [],
            "needs_background": "light"
          }
        }
      ]
    },
    {
      "cell_type": "code",
      "metadata": {
        "id": "bbpvjiVEvbk_",
        "colab": {
          "base_uri": "https://localhost:8080/",
          "height": 231
        },
        "outputId": "52b550fe-1681-4bb6-966e-160b5ed8d765"
      },
      "source": [
        "from sklearn.neural_network import MLPRegressor\n",
        "from sklearn.datasets import make_regression\n",
        "from sklearn.model_selection import train_test_split\n",
        "\n",
        "\n",
        "#X, y = make_regression(n_samples=200, random_state=1)\n",
        "X_train, X_test, y_train, y_test = train_test_split(X, y,\n",
        "                                                    random_state=1)\n",
        "regr = MLPRegressor(random_state=1, max_iter=500).fit(X_train, y_train)\n",
        "\n",
        "\n",
        "regr.predict(X_test[:2])\n",
        "regr.get_params(deep=True)\n",
        "regr.score(X_test, y_test)"
      ],
      "execution_count": null,
      "outputs": [
        {
          "output_type": "error",
          "ename": "NameError",
          "evalue": "ignored",
          "traceback": [
            "\u001b[0;31m---------------------------------------------------------------------------\u001b[0m",
            "\u001b[0;31mNameError\u001b[0m                                 Traceback (most recent call last)",
            "\u001b[0;32m<ipython-input-43-883f946d5001>\u001b[0m in \u001b[0;36m<module>\u001b[0;34m()\u001b[0m\n\u001b[1;32m      5\u001b[0m \u001b[0;34m\u001b[0m\u001b[0m\n\u001b[1;32m      6\u001b[0m \u001b[0;31m#X, y = make_regression(n_samples=200, random_state=1)\u001b[0m\u001b[0;34m\u001b[0m\u001b[0;34m\u001b[0m\u001b[0;34m\u001b[0m\u001b[0m\n\u001b[0;32m----> 7\u001b[0;31m X_train, X_test, y_train, y_test = train_test_split(X, y,\n\u001b[0m\u001b[1;32m      8\u001b[0m                                                     random_state=1)\n\u001b[1;32m      9\u001b[0m \u001b[0mregr\u001b[0m \u001b[0;34m=\u001b[0m \u001b[0mMLPRegressor\u001b[0m\u001b[0;34m(\u001b[0m\u001b[0mrandom_state\u001b[0m\u001b[0;34m=\u001b[0m\u001b[0;36m1\u001b[0m\u001b[0;34m,\u001b[0m \u001b[0mmax_iter\u001b[0m\u001b[0;34m=\u001b[0m\u001b[0;36m500\u001b[0m\u001b[0;34m)\u001b[0m\u001b[0;34m.\u001b[0m\u001b[0mfit\u001b[0m\u001b[0;34m(\u001b[0m\u001b[0mX_train\u001b[0m\u001b[0;34m,\u001b[0m \u001b[0my_train\u001b[0m\u001b[0;34m)\u001b[0m\u001b[0;34m\u001b[0m\u001b[0;34m\u001b[0m\u001b[0m\n",
            "\u001b[0;31mNameError\u001b[0m: name 'y' is not defined"
          ]
        }
      ]
    }
  ]
}