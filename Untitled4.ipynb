{
  "nbformat": 4,
  "nbformat_minor": 0,
  "metadata": {
    "colab": {
      "name": "Untitled4.ipynb",
      "provenance": [],
      "toc_visible": true,
      "include_colab_link": true
    },
    "kernelspec": {
      "name": "python3",
      "display_name": "Python 3"
    },
    "language_info": {
      "name": "python"
    }
  },
  "cells": [
    {
      "cell_type": "markdown",
      "metadata": {
        "id": "view-in-github",
        "colab_type": "text"
      },
      "source": [
        "<a href=\"https://colab.research.google.com/github/evin357/References/blob/master/Untitled4.ipynb\" target=\"_parent\"><img src=\"https://colab.research.google.com/assets/colab-badge.svg\" alt=\"Open In Colab\"/></a>"
      ]
    },
    {
      "cell_type": "markdown",
      "metadata": {
        "id": "XhRdshTXuiYY"
      },
      "source": [
        "\n",
        "\n",
        "\n",
        "\n"
      ]
    },
    {
      "cell_type": "code",
      "metadata": {
        "id": "hEffg8jGm9F7"
      },
      "source": [
        "import pandas as pd\n",
        "import numpy as np\n",
        "import matplotlib.pyplot as plt\n"
      ],
      "execution_count": 1,
      "outputs": []
    },
    {
      "cell_type": "markdown",
      "metadata": {
        "id": "ZUXd5bS5vYqn"
      },
      "source": [
        "# RFR"
      ]
    },
    {
      "cell_type": "code",
      "metadata": {
        "colab": {
          "base_uri": "https://localhost:8080/"
        },
        "id": "zuvLVE249Fee",
        "outputId": "dcc27c7b-f153-4c58-cf03-509a9ea22254"
      },
      "source": [
        "import numpy as np\n",
        "import matplotlib.pyplot as plt\n",
        "import pandas as pd\n",
        "from sklearn.model_selection import train_test_split\n",
        "from sklearn.ensemble import RandomForestRegressor\n",
        "from sklearn.datasets import make_regression\n",
        "from sklearn.preprocessing import MinMaxScaler\n",
        "\n",
        "\n",
        "df1 = pd.read_csv('nesistrucdata.csv')\n",
        "df2 = pd.read_csv('MLdataNeSI.csv')\n",
        "\n",
        "# frames = [df1, df2]\n",
        "#     df = pd.concat(frames)\n",
        "\n",
        "df = pd.DataFrame([df1['A'], \n",
        "                   df1['A_radius'], df1['B_radius'], df1['X_radius'],\n",
        "                   df1['A-B Distance'], df1['A-X Distance'],df1['B-X Distance'], df1['X-X Distance'],\n",
        "                   df1['Volume'], df1['Band Gap'], \n",
        "                   df2['A'], \n",
        "                   df2['A Group ID'], df2['B Group ID'], df2['X Group ID'], \n",
        "                   df2['A Period'], df2['B Period'], df2['X Period'],\n",
        "                   df2['A Mass'], df2['B Mass'], df2['X Mass'], \n",
        "                   df2['Cell Mass'],\n",
        "                   df2['A 1st Ionisation Energy'], df2['B 1st Ionisation Energy'],df2['X 1st Ionisation Energy'],\n",
        "                   df2['A Dipole Polarizability'], df2['B Dipole Polarizability'], df2['X Dipole Polarizability'],\n",
        "                   df2['A Electronegativity'], df2['B Electronegativity'], df2['X Electronegativity'], df2['Band Gap']\n",
        "                   ]).transpose()\n",
        "list(df)\n",
        "df = df.T.drop_duplicates().T\n",
        "list(df)\n",
        "\n",
        "\n"
      ],
      "execution_count": 3,
      "outputs": [
        {
          "output_type": "execute_result",
          "data": {
            "text/plain": [
              "['A',\n",
              " 'A_radius',\n",
              " 'B_radius',\n",
              " 'X_radius',\n",
              " 'A-B Distance',\n",
              " 'A-X Distance',\n",
              " 'B-X Distance',\n",
              " 'Volume',\n",
              " 'Band Gap',\n",
              " 'A Group ID',\n",
              " 'B Group ID',\n",
              " 'X Group ID',\n",
              " 'A Period',\n",
              " 'B Period',\n",
              " 'X Period',\n",
              " 'A Mass',\n",
              " 'B Mass',\n",
              " 'X Mass',\n",
              " 'Cell Mass',\n",
              " 'A 1st Ionisation Energy',\n",
              " 'B 1st Ionisation Energy',\n",
              " 'X 1st Ionisation Energy',\n",
              " 'A Dipole Polarizability',\n",
              " 'B Dipole Polarizability',\n",
              " 'X Dipole Polarizability',\n",
              " 'A Electronegativity',\n",
              " 'B Electronegativity',\n",
              " 'X Electronegativity',\n",
              " 'Band Gap']"
            ]
          },
          "metadata": {
            "tags": []
          },
          "execution_count": 3
        }
      ]
    },
    {
      "cell_type": "code",
      "metadata": {
        "id": "3CzCXzsr4M3D",
        "colab": {
          "base_uri": "https://localhost:8080/",
          "height": 332
        },
        "outputId": "1bd09e71-82e7-4405-aca4-955ff67dae2b"
      },
      "source": [
        "\n",
        "\n",
        "\n",
        "# Importing the datasets\n",
        "\n",
        "Y = df[['Band Gap']] # Target \n",
        "# X = df[['A_radius','B_radius','X_radius', \n",
        "#         'A 1st Ionisation Energy','B 1st Ionisation Energy', 'X 1st Ionisation Energy',\n",
        "#         'A Dipole Polarizability', 'B Dipole Polarizability', 'X Dipole Polarizability',\n",
        "#         'A Electronegativity', 'B Electronegativity', 'X Electronegativity', \n",
        "#         'A Group ID','B Group ID','X Group ID',\n",
        "#         'A Period', 'B Period', 'X Period',\n",
        "#         'A Mass', 'B Mass', 'X Mass']]  # Atom only Params + Works really well\n",
        "# X = df[['A_radius','B_radius','X_radius', \n",
        "#        'A 1st Ionisation Energy','B 1st Ionisation Energy', 'X 1st Ionisation Energy',\n",
        "#         'A Dipole Polarizability', 'B Dipole Polarizability', 'X Dipole Polarizability',\n",
        "#         'A Electronegativity', 'B Electronegativity', 'X Electronegativity', \n",
        "#         'A Group ID','B Group ID','X Group ID',\n",
        "#         'A Period', 'B Period', 'X Period',\n",
        "#         'A Mass', 'B Mass', 'X Mass',\n",
        "#         'Volume', 'Cell Mass']]   # Atom + Cell Params\n",
        "# X = df[['A-B Distance', 'A-X Distance', 'B-X Distance']] # Distances only, 'X-X Distance'?'X-X Distance',\n",
        "X = df[['A-B Distance', 'A-X Distance', 'B-X Distance', \n",
        "        'A 1st Ionisation Energy','B 1st Ionisation Energy', 'X 1st Ionisation Energy',\n",
        "        'A Dipole Polarizability', 'B Dipole Polarizability', 'X Dipole Polarizability',\n",
        "        'A Electronegativity', 'B Electronegativity', 'X Electronegativity']] # Distances + Electronic\n",
        "\n",
        "\n",
        "\n",
        "def splitdata(X,Y):\n",
        "  X_train, X_test, y_train, y_test = train_test_split(X, Y, test_size=0.2, random_state=None)\n",
        "  norm = MinMaxScaler().fit(X_train)\n",
        "  X_train_norm = norm.transform(X_train)\n",
        "  X_test_norm = norm.transform(X_test)\n",
        "  return X_train_norm, X_test_norm, y_train, y_test\n",
        "\n",
        "def RFR_fit(X,Y):\n",
        "  X_train, X_test, y_train, y_test = splitdata(X,Y)\n",
        "  # Fitting the Regression model to the dataset\n",
        "  regressor = RandomForestRegressor(n_estimators = 100, random_state = 42)\n",
        "  regressor.fit(X_train,y_train)\n",
        "  # Predicting a new result with the Random Forest Regression\n",
        "  y_Pred = regressor.predict(X_test)\n",
        "  coefs=list(zip(X.columns, regressor.feature_importances_))\n",
        "  \n",
        "  return y_test,y_Pred,coefs\n",
        "\n",
        "def plot_BG_testvspred(y_test,y_Pred,model_name):\n",
        "# Visualising the Random Forest Regression results in higher resolution and smoother curve\n",
        "  #\n",
        "  #Y_Grid = np.arange(np.array(Y.min()), np.array(Y.max()), 0.01)\n",
        "  #Y_Grid = Y_Grid.reshape((len(Y_Grid), 1))\n",
        "  # Plotting\n",
        "  plt.scatter(y_test,y_Pred, color = 'red')\n",
        "  plt.plot([y_test.min(),y_test.max()],[y_test.min(),y_test.max()], color = 'blue')#Y_Grid, Y_Grid, color = 'blue')\n",
        "  #Labelling plots\n",
        "  plt.title(model_name+' Results')\n",
        "  plt.xlabel('True Band Gap')\n",
        "  plt.ylabel('Predicted Band Gap')\n",
        "  plt.show()\n",
        "\n",
        "y_test,y_Pred,coefs = RFR_fit(X,Y)\n",
        "print(coefs)\n",
        "\n",
        "plot_BG_testvspred(y_test,y_Pred,'Random Forest Regression')"
      ],
      "execution_count": 22,
      "outputs": [
        {
          "output_type": "stream",
          "text": [
            "[('A-B Distance', 0.03151416392046495), ('A-X Distance', 0.031173112987180788), ('B-X Distance', 0.038442215159546794), ('A 1st Ionisation Energy', 0.10325103894002058), ('B 1st Ionisation Energy', 0.1127744707735163), ('X 1st Ionisation Energy', 0.04144203701903022), ('A Dipole Polarizability', 0.10854895805732609), ('B Dipole Polarizability', 0.18341199744253964), ('X Dipole Polarizability', 0.027307772506551524), ('A Electronegativity', 0.14917383022672795), ('B Electronegativity', 0.12790284445842798), ('X Electronegativity', 0.04505755850866726)]\n"
          ],
          "name": "stdout"
        },
        {
          "output_type": "display_data",
          "data": {
            "image/png": "[encoded data removed]",
            "text/plain": [
              "<Figure size 432x288 with 1 Axes>"
            ]
          },
          "metadata": {
            "tags": [],
            "needs_background": "light"
          }
        }
      ]
    },
    {
      "cell_type": "markdown",
      "metadata": {
        "id": "eaLfpMszvah8"
      },
      "source": [
        "# MLP"
      ]
    },
    {
      "cell_type": "code",
      "metadata": {
        "colab": {
          "base_uri": "https://localhost:8080/",
          "height": 1000
        },
        "id": "jIGSjSI-TA3r",
        "outputId": "f1bb6609-a581-482e-b6b5-a3c8277cd5da"
      },
      "source": [
        "from sklearn.neural_network import MLPRegressor\n",
        "from sklearn.datasets import make_regression\n",
        "\n",
        "def MLP_fit(X,Y, hidden, print_coefs = True, max_iter= 10000):\n",
        "    X_train, X_test, y_train, y_test = splitdata(X,Y)\n",
        "    print(np.mean(np.array(y_train)))\n",
        "#-- fit + extract coefficients\n",
        "    model = MLPRegressor(hidden, validation_fraction = 0, solver='lbfgs', max_iter= max_iter).fit(X_train, y_train)\n",
        "    coefs = model.coefs_\n",
        "\n",
        "#--  ?  \n",
        "    yhat = model.predict(X)\n",
        "\n",
        "#-- calculate variance re: real, predicted values to estimate error of fit\n",
        "    y_Pred=model.predict(X_test)\n",
        "    print(y_Pred)\n",
        "    y_train_pred = model.predict(X_train)\n",
        "    loss = np.square(np.array(y_train) - np.array(y_train_pred)).mean()\n",
        "\n",
        "#-- ??\n",
        "    hiddens = coefs[0].T\n",
        "    final_mlp = coefs[1].flatten()\n",
        "    \n",
        "    coefs = list(zip([dict(zip(X.columns, h)) for h in hiddens],\n",
        "                     [['output mult:', m] for m in  final_mlp.flatten()], \n",
        "                     [['intercept:', i] for i in  model.intercepts_[0]]))\n",
        "    print('loss:', loss)\n",
        "    if print_coefs:\n",
        "        for idx, c in enumerate(coefs):\n",
        "            f1, o, i = c\n",
        "            featurestring='feature'+str(idx)+'='\n",
        "            for key in X.columns:\n",
        "                featurestring+=str(f1[key].round(2))+'*'+key+' +'\n",
        "            featurestring+=str(i[1].round(2))\n",
        "            print(featurestring)    \n",
        "            #print('feature', idx, '=', f1['brand'].round(2), '* brand +', \n",
        "            #      f1['d2c'].round(2), '* d2c', '+', i[1].round(2))\n",
        "        output = 'yhat = '\n",
        "        for fidx, v in enumerate(final_mlp):\n",
        "            output = output + str(v.round(2)) + ' * feat ' + str(fidx) + ' + '\n",
        "        output = output + str(model.intercepts_[1][0].round(2))\n",
        "        print(output)\n",
        "    return model, yhat, y_test,y_Pred, coefs, loss\n",
        "\n",
        "model, yhat,y_test,y_Pred,coefs, loss = MLP_fit(X,Y,[10, 5])# for hidden, supply list where each number n produces a layer of n nodes, eg [2,3] has one layer of two nodes and one layer of three\n",
        "plot_BG_testvspred(y_test,y_Pred,'MLP')"
      ],
      "execution_count": 23,
      "outputs": [
        {
          "output_type": "stream",
          "text": [
            "0.7336467153284671\n",
            "[[ 2.67253322e-01  2.66505424e-01]\n",
            " [ 1.23227012e-01  1.22327603e-01]\n",
            " [ 2.13663946e-01  2.12859674e-01]\n",
            " [-1.97973120e-01 -1.99210420e-01]\n",
            " [ 2.19688614e+00  2.19380908e+00]\n",
            " [-7.02689958e-02 -7.13719560e-02]\n",
            " [ 5.71667091e-02  5.61978069e-02]\n",
            " [ 1.82442957e-01  1.81605842e-01]\n",
            " [ 2.18861543e-01  2.18062738e-01]\n",
            " [ 2.98882112e-01  2.98167486e-01]\n",
            " [ 1.82387031e-01  1.81549857e-01]\n",
            " [ 4.46502978e+00  4.45915769e+00]\n",
            " [ 1.85120874e-01  1.84286575e-01]\n",
            " [ 2.28268313e+00  2.27936938e+00]\n",
            " [ 4.19218789e-01  4.18591775e-01]\n",
            " [ 4.37739990e-01  4.36932462e-01]\n",
            " [-8.33636631e-02 -8.44803984e-02]\n",
            " [ 4.03707384e+00  4.03168768e+00]\n",
            " [ 1.44433961e+00  1.44225930e+00]\n",
            " [-2.09350713e-01 -2.10599982e-01]\n",
            " [ 3.57650994e-01  3.56998191e-01]\n",
            " [-6.55434431e-02 -6.66414321e-02]\n",
            " [ 2.73795747e-01  2.73054731e-01]\n",
            " [ 1.97214556e-01  1.96392980e-01]\n",
            " [ 1.81090999e-01  1.80252461e-01]\n",
            " [ 7.46027206e-03  6.43908042e-03]\n",
            " [-2.61172493e-02 -2.71737633e-02]\n",
            " [ 2.64825520e-01  2.64075068e-01]\n",
            " [ 2.62977193e-03  1.60349877e-03]\n",
            " [ 4.96433584e-01  4.95236618e-01]\n",
            " [-1.23044842e-01 -1.24203320e-01]\n",
            " [ 9.35452248e-01  9.34026297e-01]\n",
            " [-8.02392423e-02 -8.13526908e-02]\n",
            " [ 6.18609766e-01  6.17655519e-01]\n",
            " [ 3.46445091e-01  3.45780500e-01]]\n",
            "loss: 0.07544737319685031\n",
            "feature0=0.11*A-B Distance +0.27*A-X Distance +-0.1*B-X Distance +0.09*A 1st Ionisation Energy +-0.21*B 1st Ionisation Energy +-0.38*X 1st Ionisation Energy +-0.49*A Dipole Polarizability +-0.4*B Dipole Polarizability +-0.5*X Dipole Polarizability +-0.51*A Electronegativity +0.3*B Electronegativity +0.26*X Electronegativity +0.04\n",
            "feature1=-0.0*A-B Distance +-0.4*A-X Distance +-0.44*B-X Distance +0.28*A 1st Ionisation Energy +-0.48*B 1st Ionisation Energy +0.2*X 1st Ionisation Energy +0.27*A Dipole Polarizability +0.24*B Dipole Polarizability +0.05*X Dipole Polarizability +-0.38*A Electronegativity +0.07*B Electronegativity +-0.45*X Electronegativity +-0.24\n",
            "feature2=-1.47*A-B Distance +-1.46*A-X Distance +-1.98*B-X Distance +2.68*A 1st Ionisation Energy +-3.51*B 1st Ionisation Energy +0.62*X 1st Ionisation Energy +0.81*A Dipole Polarizability +0.17*B Dipole Polarizability +4.0*X Dipole Polarizability +0.52*A Electronegativity +4.77*B Electronegativity +-0.8*X Electronegativity +2.28\n",
            "feature3=-0.52*A-B Distance +0.45*A-X Distance +-0.31*B-X Distance +0.09*A 1st Ionisation Energy +-0.35*B 1st Ionisation Energy +0.19*X 1st Ionisation Energy +0.42*A Dipole Polarizability +-0.11*B Dipole Polarizability +-0.5*X Dipole Polarizability +-0.07*A Electronegativity +-0.23*B Electronegativity +-0.39*X Electronegativity +-0.06\n",
            "feature4=-0.31*A-B Distance +-0.54*A-X Distance +-0.29*B-X Distance +0.36*A 1st Ionisation Energy +-2.93*B 1st Ionisation Energy +0.53*X 1st Ionisation Energy +0.73*A Dipole Polarizability +3.76*B Dipole Polarizability +1.93*X Dipole Polarizability +-1.15*A Electronegativity +-3.43*B Electronegativity +0.49*X Electronegativity +0.37\n",
            "feature5=-0.48*A-B Distance +-0.43*A-X Distance +0.06*B-X Distance +-1.43*A 1st Ionisation Energy +-0.37*B 1st Ionisation Energy +0.44*X 1st Ionisation Energy +0.28*A Dipole Polarizability +0.67*B Dipole Polarizability +-0.22*X Dipole Polarizability +-0.75*A Electronegativity +-0.62*B Electronegativity +0.08*X Electronegativity +-1.03\n",
            "feature6=2.06*A-B Distance +2.14*A-X Distance +2.24*B-X Distance +-2.2*A 1st Ionisation Energy +7.95*B 1st Ionisation Energy +1.53*X 1st Ionisation Energy +-2.55*A Dipole Polarizability +-0.56*B Dipole Polarizability +-1.13*X Dipole Polarizability +-1.58*A Electronegativity +1.95*B Electronegativity +2.44*X Electronegativity +-2.8\n",
            "feature7=0.02*A-B Distance +0.19*A-X Distance +-0.22*B-X Distance +0.22*A 1st Ionisation Energy +-0.05*B 1st Ionisation Energy +-0.37*X 1st Ionisation Energy +-0.51*A Dipole Polarizability +-0.32*B Dipole Polarizability +-0.17*X Dipole Polarizability +-0.34*A Electronegativity +-0.18*B Electronegativity +-0.46*X Electronegativity +-0.13\n",
            "feature8=0.43*A-B Distance +-0.03*A-X Distance +-0.05*B-X Distance +0.33*A 1st Ionisation Energy +-0.42*B 1st Ionisation Energy +-0.4*X 1st Ionisation Energy +-0.16*A Dipole Polarizability +-0.1*B Dipole Polarizability +-0.47*X Dipole Polarizability +-0.23*A Electronegativity +0.15*B Electronegativity +-0.14*X Electronegativity +-0.49\n",
            "feature9=-0.43*A-B Distance +-0.22*A-X Distance +0.03*B-X Distance +-0.31*A 1st Ionisation Energy +0.05*B 1st Ionisation Energy +-0.29*X 1st Ionisation Energy +-0.27*A Dipole Polarizability +-0.4*B Dipole Polarizability +-0.49*X Dipole Polarizability +0.26*A Electronegativity +-0.06*B Electronegativity +-0.17*X Electronegativity +0.23\n",
            "yhat = 0.25 * feat 0 + 0.31 * feat 1 + 0.31 * feat 2 + -0.63 * feat 3 + -0.0 * feat 4 + 0.44 * feat 5 + 0.06 * feat 6 + -0.15 * feat 7 + -0.59 * feat 8 + -0.06 * feat 9 + -0.57 * feat 10 + -0.14 * feat 11 + 0.86 * feat 12 + -0.54 * feat 13 + -4.53 * feat 14 + 0.12 * feat 15 + -0.2 * feat 16 + 0.11 * feat 17 + -0.3 * feat 18 + 0.23 * feat 19 + -0.43 * feat 20 + -0.28 * feat 21 + 0.69 * feat 22 + 0.05 * feat 23 + 3.78 * feat 24 + 0.5 * feat 25 + -0.57 * feat 26 + -0.48 * feat 27 + 0.5 * feat 28 + -0.92 * feat 29 + -0.8 * feat 30 + -0.13 * feat 31 + 0.17 * feat 32 + -0.51 * feat 33 + 1.77 * feat 34 + 0.14 * feat 35 + -0.56 * feat 36 + 0.12 * feat 37 + 0.21 * feat 38 + 0.11 * feat 39 + -0.05 * feat 40 + -0.63 * feat 41 + 0.57 * feat 42 + -0.57 * feat 43 + -0.49 * feat 44 + 0.57 * feat 45 + 0.15 * feat 46 + 0.37 * feat 47 + -0.6 * feat 48 + -0.57 * feat 49 + -0.28\n"
          ],
          "name": "stdout"
        },
        {
          "output_type": "display_data",
          "data": {
            "image/png": "[encoded data removed]",
            "text/plain": [
              "<Figure size 432x288 with 1 Axes>"
            ]
          },
          "metadata": {
            "tags": [],
            "needs_background": "light"
          }
        }
      ]
    }
  ]
}